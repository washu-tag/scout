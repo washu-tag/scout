{
 "cells": [
  {
   "cell_type": "markdown",
   "id": "e6c8429d-0626-49fe-96ee-b047bc75c019",
   "metadata": {},
   "source": [
    "# Scout Spark Delta Lake Quickstart"
   ]
  },
  {
   "cell_type": "code",
   "execution_count": 1,
   "id": "537b7221-e1ab-4eda-9810-40d716ec3ed5",
   "metadata": {},
   "outputs": [],
   "source": [
    "from pyspark.sql import SparkSession\n",
    "import pandas as pd"
   ]
  },
  {
   "cell_type": "code",
   "execution_count": 2,
   "id": "eb03056a-9481-4ff7-ace9-7b5809a62639",
   "metadata": {},
   "outputs": [],
   "source": [
    "# Start spark session\n",
    "spark = SparkSession.builder.appName(\"hl7-searches\").getOrCreate()"
   ]
  },
  {
   "cell_type": "code",
   "execution_count": 3,
   "id": "4e0e413b-b48f-44a6-b95e-971bb4327d88",
   "metadata": {
    "scrolled": true
   },
   "outputs": [],
   "source": [
    "# Load and create sql view of report data\n",
    "spark.read.format(\"delta\") \\\n",
    "    .load(\"s3a://lake/delta_tables/reports\") \\\n",
    "    .createOrReplaceTempView(\"reports\")"
   ]
  },
  {
   "cell_type": "code",
   "execution_count": 4,
   "id": "6c53ca12-ae62-4a6c-b383-3b4ed93dae2d",
   "metadata": {},
   "outputs": [],
   "source": [
    "# Count how many reports are a\n",
    "count_reports = spark.sql(\"\"\"\n",
    "    SELECT COUNT(*) FROM reports\n",
    "\"\"\")"
   ]
  },
  {
   "cell_type": "code",
   "execution_count": 5,
   "id": "ff2b5c06-2e79-4403-9604-00ca59704afd",
   "metadata": {},
   "outputs": [
    {
     "name": "stdout",
     "output_type": "stream",
     "text": [
      "+--------+\n",
      "|count(1)|\n",
      "+--------+\n",
      "|16115804|\n",
      "+--------+\n",
      "\n"
     ]
    }
   ],
   "source": [
    "count_reports.show()"
   ]
  },
  {
   "cell_type": "code",
   "execution_count": 6,
   "id": "e4d46aba-8584-44a7-a43b-63bd51eebc24",
   "metadata": {},
   "outputs": [],
   "source": [
    "# Show available modalities and count\n",
    "modality_count = spark.sql(\"\"\"\n",
    "    SELECT modality, COUNT(*) as count\n",
    "    FROM reports\n",
    "    GROUP BY modality\n",
    "    ORDER BY count DESC\n",
    "\"\"\")"
   ]
  },
  {
   "cell_type": "code",
   "execution_count": null,
   "id": "b3577a9b-ebd9-4827-8e36-e779b28a615c",
   "metadata": {},
   "outputs": [],
   "source": [
    "modality_count.show()"
   ]
  },
  {
   "cell_type": "code",
   "execution_count": null,
   "id": "bdc12fe8-06a7-448b-a7de-b53df28f0587",
   "metadata": {},
   "outputs": [],
   "source": [
    "# Print out the schema and show an example report\n",
    "show_schema = spark.sql(\"\"\"\n",
    "    SELECT * FROM reports LIMIT 10\n",
    "\"\"\")"
   ]
  },
  {
   "cell_type": "code",
   "execution_count": null,
   "id": "d54cfcfd-e618-4c9a-b64a-f23a6cd86eb2",
   "metadata": {},
   "outputs": [],
   "source": [
    "show_schema.printSchema()\n",
    "show_schema.show(1, vertical=True)"
   ]
  },
  {
   "cell_type": "code",
   "execution_count": null,
   "id": "f3f6c9f6-5563-46c8-bc08-cebf83426e35",
   "metadata": {},
   "outputs": [],
   "source": [
    "# View Sex Distribution in CT and MR Reports\n",
    "sex_distribution_query = spark.sql(\"\"\"\n",
    "    SELECT sex, modality, COUNT(*) as count\n",
    "    FROM reports\n",
    "    WHERE modality IN ('CT', 'MR')\n",
    "    GROUP BY sex, modality\n",
    "    ORDER BY modality, sex, count DESC\n",
    "\"\"\")"
   ]
  },
  {
   "cell_type": "code",
   "execution_count": null,
   "id": "22c0d75b-f89a-4ed0-a953-9abd8f38c44d",
   "metadata": {},
   "outputs": [],
   "source": [
    "sex_distribution_query.show()"
   ]
  },
  {
   "cell_type": "code",
   "execution_count": null,
   "id": "0e842bee-0619-4a10-8856-e6a87f6737a8",
   "metadata": {},
   "outputs": [],
   "source": [
    "# Import a list of study instance uids from a csv to search for\n",
    "csv = spark.read.csv(\n",
    "    '/home/jovyan/Scout/study_instance_uids.csv', \n",
    "    inferSchema=True, \n",
    "    header = True\n",
    ")\n",
    "\n",
    "csv.createOrReplaceTempView(\"siuids\")"
   ]
  },
  {
   "cell_type": "code",
   "execution_count": null,
   "id": "7b3ab899-a546-4a45-af2d-a6553f7f1805",
   "metadata": {},
   "outputs": [],
   "source": [
    "# Search for study instance uids from csv\n",
    "search = spark.sql(\"\"\"\n",
    "    SELECT * \n",
    "    FROM reports \n",
    "    INNER JOIN siuids \n",
    "    ON reports.study_instance_uid=siuids.study_instance_uid\n",
    "\"\"\")"
   ]
  },
  {
   "cell_type": "code",
   "execution_count": null,
   "id": "d9b72003-a2f0-435d-be15-92a8609ed6fc",
   "metadata": {},
   "outputs": [],
   "source": [
    "search.count()"
   ]
  },
  {
   "cell_type": "code",
   "execution_count": null,
   "id": "345a8519-3ff9-433c-8979-8946080dd81a",
   "metadata": {},
   "outputs": [],
   "source": [
    "# Write joined data to csv\n",
    "search.select(\n",
    "        'birth_date',\n",
    "        'sex',\n",
    "        'race',\n",
    "        'reports.study_instance_uid',\n",
    "        'report_text',\n",
    "        'abc_mr',\n",
    "        'epic_mrn',\n",
    "    ).write.csv('/home/jovyan/Scout/search_siuids_csv', header=True)"
   ]
  },
  {
   "cell_type": "code",
   "execution_count": null,
   "id": "a68ca747-f5de-40a0-b14d-04e15a55bfdf",
   "metadata": {},
   "outputs": [],
   "source": [
    "# Select 50k random CTs\n",
    "search = spark.sql(\"\"\"\n",
    "    SELECT * \n",
    "    FROM reports \n",
    "    WHERE modality='CT'\n",
    "    ORDER BY RAND() \n",
    "    LIMIT 50000\n",
    "\"\"\")"
   ]
  },
  {
   "cell_type": "code",
   "execution_count": null,
   "id": "43ce318d-3044-4c11-8336-3ec0d690cd5e",
   "metadata": {},
   "outputs": [],
   "source": [
    "search.count()"
   ]
  },
  {
   "cell_type": "code",
   "execution_count": null,
   "id": "f83a5f14-a85a-4d62-8f55-bb8e11fd7760",
   "metadata": {},
   "outputs": [],
   "source": [
    "# Write to csv\n",
    "search.select(\n",
    "        'birth_date',\n",
    "        'sex',\n",
    "        'race',\n",
    "        'reports.study_instance_uid',\n",
    "        'report_text',\n",
    "        'abc_mr',\n",
    "        'epic_mrn',\n",
    "        'modality'\n",
    "    ).write.csv('/home/jovyan/Scout/50k_ct_csv', header=True)"
   ]
  },
  {
   "cell_type": "code",
   "execution_count": null,
   "id": "83b73ccb-ec4c-42fc-b2bc-2cb16e3e550c",
   "metadata": {},
   "outputs": [],
   "source": [
    "# Select 300k random MGs\n",
    "search = spark.sql(\"\"\"\n",
    "    SELECT * \n",
    "    FROM reports \n",
    "    WHERE modality='MG'\n",
    "    ORDER BY RAND() \n",
    "    LIMIT 300000\n",
    "\"\"\")"
   ]
  },
  {
   "cell_type": "code",
   "execution_count": null,
   "id": "126f25cf-1500-4a3f-965b-b161bbc2a1e2",
   "metadata": {},
   "outputs": [],
   "source": [
    "search.count()"
   ]
  },
  {
   "cell_type": "code",
   "execution_count": null,
   "id": "638620bd-715f-48c3-b55e-e4e6f767f6a7",
   "metadata": {},
   "outputs": [],
   "source": [
    "# Write to csv\n",
    "search.select(\n",
    "        'birth_date',\n",
    "        'sex',\n",
    "        'race',\n",
    "        'reports.study_instance_uid',\n",
    "        'report_text',\n",
    "        'abc_mr',\n",
    "        'epic_mrn',\n",
    "        'modality'\n",
    "    ).write.csv('/home/jovyan/Scout/300k_mg_csv', header=True)"
   ]
  }
 ],
 "metadata": {
  "kernelspec": {
   "display_name": "Python 3 (ipykernel)",
   "language": "python",
   "name": "python3"
  },
  "language_info": {
   "codemirror_mode": {
    "name": "ipython",
    "version": 3
   },
   "file_extension": ".py",
   "mimetype": "text/x-python",
   "name": "python",
   "nbconvert_exporter": "python",
   "pygments_lexer": "ipython3",
   "version": "3.11.10"
  }
 },
 "nbformat": 4,
 "nbformat_minor": 5
}
